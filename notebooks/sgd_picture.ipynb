{
 "cells": [
  {
   "cell_type": "markdown",
   "metadata": {},
   "source": [
    "# SGD Picture\n",
    "For this puzzle, we want to construct a dataset, such that the trajectories during training follow a pre-defined pattern. We stick to the easiest model: a linear model with a bias term and a single weight. Also, to keep it simple, we use SGD with batch-size 1, start at the origin, and set the learning rate to 1. Moreover, we will assume that training is done with a squared error loss.\n",
    "\n",
    "In order to find the $(x, y)$-datapoints needed for this to work, we can write down the SGD updates. They are:\n",
    "\n",
    "$$\n",
    "w_1^{(i)} = w_1^{(i-1)} - 2( w_1^{(i-1)} +  w_2^{(i-1)} x - y)\n",
    "$$\n",
    "$$\n",
    "w_2^{(i)} = w_2^{(i-1)} - 2x(w_1^{(i-1)} +  w_2^{(i-1)} x - y),\n",
    "$$\n",
    "\n",
    "where $w_1$ denotes the bias and $w_2$ the weight. We can solve this system of equations for $x$ and $y$ and obtain the formulae defined below:"
   ]
  },
  {
   "cell_type": "code",
   "execution_count": null,
   "metadata": {},
   "outputs": [],
   "source": [
    "def calculate_x(w_n: tuple[float], w_n_minus_1: tuple[float]):\n",
    "    a, b = w_n_minus_1\n",
    "    c, d = w_n\n",
    "    if a == c:\n",
    "        print(w_n, w_n_minus_1)\n",
    "    return (b - d) / (a - c)\n",
    "\n",
    "def calculate_y(w_n: tuple[float], w_n_minus_1: tuple[float]):\n",
    "    a, b = w_n_minus_1\n",
    "    c, d = w_n\n",
    "\n",
    "    return (a**2 + 2 * b**2 - 2 * b * d - c ** 2) / (2 * a - 2 * c)\n"
   ]
  },
  {
   "cell_type": "markdown",
   "metadata": {},
   "source": [
    "Let's define a toy shape, and derive the entire dataset:"
   ]
  },
  {
   "cell_type": "code",
   "execution_count": null,
   "metadata": {},
   "outputs": [],
   "source": [
    "def create_dataset(shape):\n",
    "    x = [\n",
    "        calculate_x(w_n, w_n_minus_1)\n",
    "        for w_n, w_n_minus_1\n",
    "        in zip(shape[1:], shape[:-1])\n",
    "    ]\n",
    "    y = [\n",
    "        calculate_y(w_n, w_n_minus_1)\n",
    "        for w_n, w_n_minus_1\n",
    "        in zip(shape[1:], shape[:-1])\n",
    "    ]\n",
    "    return x, y\n",
    "\n",
    "shape = [\n",
    "    (0, 0),\n",
    "    (0.5, 1),\n",
    "    (1, 2),\n",
    "    (0, 0),\n",
    "]\n",
    "\n",
    "x, y = create_dataset(shape)\n"
   ]
  },
  {
   "cell_type": "markdown",
   "metadata": {},
   "source": [
    "Try it out (and initialize the weights to zero, otherwise we have no control over what will happen). We always log the weight and bias at every step."
   ]
  },
  {
   "cell_type": "code",
   "execution_count": null,
   "metadata": {},
   "outputs": [],
   "source": [
    "import torch\n",
    "\n",
    "model = torch.nn.Linear(1, 1)\n",
    "\n",
    "# initialize weights at zero\n",
    "torch.nn.init.zeros_(model.weight)\n",
    "torch.nn.init.zeros_(model.bias)\n",
    "\n",
    "optim = torch.optim.SGD(model.parameters(), lr=1)\n",
    "\n",
    "trajectory = []\n",
    "\n",
    "for x_, y_ in zip(x, y):\n",
    "    trajectory.append(\n",
    "        (model.bias.item(), model.weight.item())\n",
    "    )\n",
    "\n",
    "    x_tensor = torch.tensor([x_])\n",
    "    y_tensor = torch.tensor(y_)\n",
    "\n",
    "    model.zero_grad()\n",
    "    prediction = model(x_tensor)\n",
    "    loss = (prediction - y_tensor) ** 2\n",
    "    loss.backward()\n",
    "    optim.step()\n",
    "\n",
    "trajectory\n"
   ]
  },
  {
   "cell_type": "markdown",
   "metadata": {},
   "source": [
    "It worked!\n",
    "\n",
    "## Create the actual dataset: Picture of the UK\n",
    "\n",
    "Due to lazyness, I just create a new file from the original svg only containing the polyline. We parse this file:"
   ]
  },
  {
   "cell_type": "code",
   "execution_count": null,
   "metadata": {},
   "outputs": [],
   "source": [
    "with open(\"../resources/uk_polyline.txt\", \"r\") as f:\n",
    "    uk_path = f.read()\n",
    "\n",
    "def parse_coordinates(coordinate_pair, origin):\n",
    "    origin_x, origin_y = origin\n",
    "    x, y = coordinate_pair.strip().split(\",\")\n",
    "    return round(float(x) - origin_x, 1), round((-float(y) + origin_y),1 )\n",
    "\n",
    "parsed_uk_path = [\n",
    "    parse_coordinates(coordinate_pair, (575, 620))\n",
    "    for coordinate_pair\n",
    "    in uk_path.split(\" \")\n",
    "]"
   ]
  },
  {
   "cell_type": "markdown",
   "metadata": {},
   "source": [
    "Let's see what it looks like:"
   ]
  },
  {
   "cell_type": "code",
   "execution_count": null,
   "metadata": {},
   "outputs": [],
   "source": [
    "from matplotlib import pyplot as plt\n",
    "\n",
    "xs, ys = zip(*parsed_uk_path)\n",
    "\n",
    "plt.plot(xs, ys)"
   ]
  },
  {
   "cell_type": "code",
   "execution_count": null,
   "metadata": {},
   "outputs": [],
   "source": [
    "x, y = create_dataset(parsed_uk_path)"
   ]
  },
  {
   "cell_type": "markdown",
   "metadata": {},
   "source": [
    "Let's try it out!"
   ]
  },
  {
   "cell_type": "code",
   "execution_count": null,
   "metadata": {},
   "outputs": [],
   "source": [
    "import torch\n",
    "\n",
    "model = torch.nn.Linear(1, 1)\n",
    "\n",
    "# initialize weights at zero\n",
    "torch.nn.init.zeros_(model.weight)\n",
    "torch.nn.init.zeros_(model.bias)\n",
    "\n",
    "optim = torch.optim.SGD(model.parameters(), lr=1)\n",
    "\n",
    "trajectory = []\n",
    "\n",
    "for x_, y_ in zip(x, y):\n",
    "    trajectory.append(\n",
    "        (model.bias.item(), model.weight.item())\n",
    "    )\n",
    "\n",
    "    x_tensor = torch.tensor([x_])\n",
    "    y_tensor = torch.tensor(y_)\n",
    "\n",
    "    model.zero_grad()\n",
    "    prediction = model(x_tensor)\n",
    "    loss = (prediction - y_tensor) ** 2\n",
    "    loss.backward()\n",
    "    optim.step()\n",
    "\n",
    "    # numerical instabilities make everything \"blow up\" after 20 iterations or so\n",
    "    model.bias.data = model.bias.data.round(decimals=1)\n",
    "    model.weight.data = model.weight.data.round(decimals=1)\n",
    "\n",
    "xs, ys = zip(*trajectory)\n",
    "\n",
    "plt.plot(xs, ys)"
   ]
  },
  {
   "cell_type": "markdown",
   "metadata": {},
   "source": [
    "Unfortunately, you have to round the bias and weight after every iteration, otherwise we get numerical instabilities. But like this, it works!"
   ]
  },
  {
   "cell_type": "code",
   "execution_count": null,
   "metadata": {},
   "outputs": [],
   "source": [
    "import pandas as pd\n",
    "df = pd.DataFrame({\"feature\": x, \"target\": y})\n",
    "df.to_csv(\"../puzzle/dataset.csv\", index_label=\"index\")"
   ]
  },
  {
   "cell_type": "markdown",
   "metadata": {},
   "source": []
  }
 ],
 "metadata": {
  "kernelspec": {
   "display_name": ".venv",
   "language": "python",
   "name": "python3"
  },
  "language_info": {
   "codemirror_mode": {
    "name": "ipython",
    "version": 3
   },
   "file_extension": ".py",
   "mimetype": "text/x-python",
   "name": "python",
   "nbconvert_exporter": "python",
   "pygments_lexer": "ipython3",
   "version": "3.12.2"
  }
 },
 "nbformat": 4,
 "nbformat_minor": 2
}
