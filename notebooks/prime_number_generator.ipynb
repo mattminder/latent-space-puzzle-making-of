{
 "cells": [
  {
   "cell_type": "markdown",
   "metadata": {},
   "source": [
    "## Prime Number Generator\n",
    "In the word2vec, we have the hint \"i have the property that is preserved\". Here, we're creating a property preserving network such that if a prime number is put in, another prime number is generated. \n"
   ]
  },
  {
   "cell_type": "code",
   "execution_count": null,
   "metadata": {},
   "outputs": [],
   "source": [
    "import torch"
   ]
  },
  {
   "cell_type": "code",
   "execution_count": null,
   "metadata": {},
   "outputs": [],
   "source": [
    "class PropertyPreservingNetwork(torch.nn.Module):\n",
    "    num_embeddings = 100\n",
    "    hidden_size = 2\n",
    "    def __init__(self):\n",
    "        super().__init__()\n",
    "        self.embedding = torch.nn.Embedding(num_embeddings=self.num_embeddings, embedding_dim=self.hidden_size)\n",
    "        self.output = torch.nn.Linear(self.hidden_size, self.num_embeddings)\n",
    "\n",
    "    def forward(self, x):\n",
    "        return self.output(self.embedding(x))\n"
   ]
  },
  {
   "cell_type": "markdown",
   "metadata": {},
   "source": [
    "Source of the list of prime numbers: https://en.wikipedia.org/wiki/List_of_prime_numbers"
   ]
  },
  {
   "cell_type": "code",
   "execution_count": null,
   "metadata": {},
   "outputs": [],
   "source": [
    "import pandas as pd\n",
    "prime_numbers = pd.read_csv(\"../resources/prime_numbers.tsv\", sep=\"\\t\", header=None).values.flatten()"
   ]
  },
  {
   "cell_type": "code",
   "execution_count": null,
   "metadata": {},
   "outputs": [],
   "source": [
    "max_size = PropertyPreservingNetwork.num_embeddings\n",
    "relevant_prime_numbers = prime_numbers[prime_numbers < max_size]"
   ]
  },
  {
   "cell_type": "markdown",
   "metadata": {},
   "source": [
    "Construct dataset:\n",
    "- Every prime number is matched to another prime number\n",
    "- Every non-prime number is matched to a random number"
   ]
  },
  {
   "cell_type": "code",
   "execution_count": null,
   "metadata": {},
   "outputs": [],
   "source": [
    "# Prime Examples\n",
    "torch.random.manual_seed(123)\n",
    "prime = torch.tensor(relevant_prime_numbers, dtype=torch.long)\n",
    "another_prime = prime[torch.randperm(len(prime))]\n",
    "\n",
    "# Non-Prime Examples\n",
    "non_prime = torch.tensor([\n",
    "    e for e in range(max_size) if e not in prime_numbers\n",
    "])\n",
    "any_number = torch.randperm(max_size)[:len(non_prime)]\n",
    "\n",
    "# Concat\n",
    "x = torch.concat([prime, non_prime])\n",
    "y = torch.concat([another_prime, any_number])\n",
    "is_prime = torch.zeros_like(x)\n",
    "is_prime[:len(prime)] = 1"
   ]
  },
  {
   "cell_type": "markdown",
   "metadata": {},
   "source": [
    "Train:\n",
    "- As an additional hint, we separate the embeddings of prime and non-prime numbers."
   ]
  },
  {
   "cell_type": "code",
   "execution_count": null,
   "metadata": {},
   "outputs": [],
   "source": [
    "torch.random.manual_seed(123)\n",
    "\n",
    "loss_mod = torch.nn.CrossEntropyLoss()\n",
    "\n",
    "nn = PropertyPreservingNetwork()\n",
    "\n",
    "\n",
    "optim = torch.optim.AdamW(nn.parameters(), lr=1e-2)\n",
    "n_epochs = 100000\n",
    "losses = []\n",
    "accuracies = []\n",
    "for i in range(n_epochs):\n",
    "    optim.zero_grad()\n",
    "    predictions = nn.forward(x)\n",
    "    ce_loss = loss_mod(predictions, y)\n",
    "\n",
    "    # we add another loss that separates the embeddings of prime and non-prime numbers\n",
    "    embedding = nn.embedding(x)\n",
    "    separation_loss = loss_mod(embedding, is_prime)\n",
    "\n",
    "    loss = ce_loss + separation_loss\n",
    "    loss.backward()\n",
    "\n",
    "    optim.step()\n",
    "\n",
    "    acc = (nn(x).argmax(axis=1) == y).detach().numpy().mean()\n",
    "    if (acc==1) & (separation_loss < 1e-2).item():\n",
    "        break\n",
    "\n",
    "    if i % 10 == 0:\n",
    "        print(f\"\\rLoss={loss:6.2e}. Accuracy={acc:5.2f}\", end=\"\")\n",
    "\n",
    "    losses.append(loss.detach().item())\n",
    "    accuracies.append(acc)"
   ]
  },
  {
   "cell_type": "code",
   "execution_count": null,
   "metadata": {},
   "outputs": [],
   "source": [
    "from matplotlib import pyplot as plt\n",
    "plt.plot(accuracies)"
   ]
  },
  {
   "cell_type": "markdown",
   "metadata": {},
   "source": [
    "## Let's look at the neural network"
   ]
  },
  {
   "cell_type": "code",
   "execution_count": null,
   "metadata": {},
   "outputs": [],
   "source": [
    "# Indeed, prime numbers have been preserved\n",
    "nn(torch.arange(100)).argmax(1)"
   ]
  },
  {
   "cell_type": "markdown",
   "metadata": {},
   "source": [
    "Let's check if the separation of embeddings has worked:"
   ]
  },
  {
   "cell_type": "code",
   "execution_count": null,
   "metadata": {},
   "outputs": [],
   "source": [
    "arange = torch.arange(100)\n",
    "plt.scatter(*zip(*nn.embedding(arange).detach().numpy()), c=[e in prime_numbers for e in arange])"
   ]
  },
  {
   "cell_type": "markdown",
   "metadata": {},
   "source": [
    "Nice! It looks like a bat, no idea why."
   ]
  },
  {
   "cell_type": "markdown",
   "metadata": {},
   "source": [
    "## Saving"
   ]
  },
  {
   "cell_type": "code",
   "execution_count": null,
   "metadata": {},
   "outputs": [],
   "source": [
    "torch.save(nn.state_dict(), \"../puzzle/ppn/torch_state_dict\")\n",
    "reloaded = PropertyPreservingNetwork()\n",
    "reloaded.load_state_dict(torch.load(\"../puzzle/ppn/torch_state_dict\", weights_only=True))\n",
    "\n",
    "reloaded(torch.arange(100)).argmax(1)"
   ]
  },
  {
   "cell_type": "markdown",
   "metadata": {},
   "source": []
  }
 ],
 "metadata": {
  "kernelspec": {
   "display_name": ".venv",
   "language": "python",
   "name": "python3"
  },
  "language_info": {
   "codemirror_mode": {
    "name": "ipython",
    "version": 3
   },
   "file_extension": ".py",
   "mimetype": "text/x-python",
   "name": "python",
   "nbconvert_exporter": "python",
   "pygments_lexer": "ipython3",
   "version": "3.12.2"
  }
 },
 "nbformat": 4,
 "nbformat_minor": 2
}
